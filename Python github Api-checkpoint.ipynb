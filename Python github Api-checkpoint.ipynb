{
 "cells": [
  {
   "cell_type": "code",
   "execution_count": 1,
   "id": "b259ef54",
   "metadata": {},
   "outputs": [
    {
     "name": "stdout",
     "output_type": "stream",
     "text": [
      "Requirement already satisfied: requests in c:\\users\\admin\\anaconda3\\anaconda3(1)\\new folder\\lib\\site-packages (2.25.1)\n",
      "Requirement already satisfied: chardet<5,>=3.0.2 in c:\\users\\admin\\anaconda3\\anaconda3(1)\\new folder\\lib\\site-packages (from requests) (3.0.4)\n",
      "Requirement already satisfied: urllib3<1.27,>=1.21.1 in c:\\users\\admin\\anaconda3\\anaconda3(1)\\new folder\\lib\\site-packages (from requests) (1.26.4)\n",
      "Requirement already satisfied: idna<3,>=2.5 in c:\\users\\admin\\anaconda3\\anaconda3(1)\\new folder\\lib\\site-packages (from requests) (2.10)\n",
      "Requirement already satisfied: certifi>=2017.4.17 in c:\\users\\admin\\anaconda3\\anaconda3(1)\\new folder\\lib\\site-packages (from requests) (2020.12.5)\n"
     ]
    }
   ],
   "source": [
    "!pip install requests"
   ]
  },
  {
   "cell_type": "code",
   "execution_count": 2,
   "id": "6810b60b",
   "metadata": {},
   "outputs": [
    {
     "name": "stdout",
     "output_type": "stream",
     "text": [
      "{'avatar_url': 'https://avatars.githubusercontent.com/u/85725008?v=4',\n",
      " 'bio': 'Computer engineering student',\n",
      " 'blog': 'https://poojapatel1601.blogspot.com/',\n",
      " 'company': 'Ipcowala Institute of Engineering and technology, Dharmaj',\n",
      " 'created_at': '2021-06-11T05:13:11Z',\n",
      " 'email': None,\n",
      " 'events_url': 'https://api.github.com/users/Chiki1601/events{/privacy}',\n",
      " 'followers': 3,\n",
      " 'followers_url': 'https://api.github.com/users/Chiki1601/followers',\n",
      " 'following': 0,\n",
      " 'following_url': 'https://api.github.com/users/Chiki1601/following{/other_user}',\n",
      " 'gists_url': 'https://api.github.com/users/Chiki1601/gists{/gist_id}',\n",
      " 'gravatar_id': '',\n",
      " 'hireable': None,\n",
      " 'html_url': 'https://github.com/Chiki1601',\n",
      " 'id': 85725008,\n",
      " 'location': 'Ahmedabad',\n",
      " 'login': 'Chiki1601',\n",
      " 'name': 'Miss Pooja Anilkumar Patel',\n",
      " 'node_id': 'MDQ6VXNlcjg1NzI1MDA4',\n",
      " 'organizations_url': 'https://api.github.com/users/Chiki1601/orgs',\n",
      " 'public_gists': 1,\n",
      " 'public_repos': 903,\n",
      " 'received_events_url': 'https://api.github.com/users/Chiki1601/received_events',\n",
      " 'repos_url': 'https://api.github.com/users/Chiki1601/repos',\n",
      " 'site_admin': False,\n",
      " 'starred_url': 'https://api.github.com/users/Chiki1601/starred{/owner}{/repo}',\n",
      " 'subscriptions_url': 'https://api.github.com/users/Chiki1601/subscriptions',\n",
      " 'twitter_username': 'PoojaPa81111463',\n",
      " 'type': 'User',\n",
      " 'updated_at': '2022-03-27T06:50:27Z',\n",
      " 'url': 'https://api.github.com/users/Chiki1601'}\n"
     ]
    }
   ],
   "source": [
    "import requests\n",
    "from pprint import pprint\n",
    "\n",
    "username = \"Chiki1601\"\n",
    "\n",
    "url = f\"https://api.github.com/users/Chiki1601\"\n",
    "user_data = requests.get(url).json()\n",
    "\n",
    "pprint(user_data)"
   ]
  },
  {
   "cell_type": "code",
   "execution_count": null,
   "id": "fba19392",
   "metadata": {},
   "outputs": [],
   "source": []
  }
 ],
 "metadata": {
  "kernelspec": {
   "display_name": "Python 3",
   "language": "python",
   "name": "python3"
  },
  "language_info": {
   "codemirror_mode": {
    "name": "ipython",
    "version": 3
   },
   "file_extension": ".py",
   "mimetype": "text/x-python",
   "name": "python",
   "nbconvert_exporter": "python",
   "pygments_lexer": "ipython3",
   "version": "3.8.8"
  }
 },
 "nbformat": 4,
 "nbformat_minor": 5
}
